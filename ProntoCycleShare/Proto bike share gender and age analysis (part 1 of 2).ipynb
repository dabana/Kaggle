{
 "cells": [
  {
   "cell_type": "markdown",
   "metadata": {},
   "source": [
    "# Men versus women users of Pronto. "
   ]
  },
  {
   "cell_type": "markdown",
   "metadata": {},
   "source": [
    "First, we load the data"
   ]
  },
  {
   "cell_type": "code",
   "execution_count": 3,
   "metadata": {},
   "outputs": [],
   "source": [
    "# This Python 3 environment comes with many helpful analytics libraries installed\n",
    "# It is defined by the kaggle/python docker image: https://github.com/kaggle/docker-python\n",
    "# For example, here's several helpful packages to load in \n",
    "\n",
    "import numpy as np # linear algebra\n",
    "import pandas as pd # data processing, CSV file I/O (e.g. pd.read_csv)\n",
    "import matplotlib.pyplot as plt\n",
    "from collections import defaultdict\n",
    "\n",
    "# Input data files are available in the \"../input/\" directory.\n",
    "# For example, running this (by clicking run or pressing Shift+Enter) will list the files in the input directory\n",
    "\n",
    "from subprocess import check_output\n",
    "#print(check_output([\"ls\", \"../input\"]).decode(\"utf8\"))\n",
    "\n",
    "# Any results you write to the current directory are saved as output."
   ]
  },
  {
   "cell_type": "code",
   "execution_count": 4,
   "metadata": {},
   "outputs": [
    {
     "name": "stderr",
     "output_type": "stream",
     "text": [
      "b'Skipping line 50794: expected 12 fields, saw 20\\n'\n"
     ]
    }
   ],
   "source": [
    "stations = pd.read_csv('station.csv')\n",
    "trips = pd.read_csv('trip.csv', error_bad_lines=False)\n",
    "\n",
    "#trips = pd.read_csv(\"../input/trip.csv\")\n",
    "weathers = pd.read_csv('weather.csv')\n",
    "\n",
    "#stations.head()"
   ]
  },
  {
   "cell_type": "markdown",
   "metadata": {},
   "source": [
    "## Introduction and motivations"
   ]
  },
  {
   "cell_type": "markdown",
   "metadata": {},
   "source": [
    "I live in Montreal, and we have a similar service here called Bixi. Even though this service was not profitable for the private operator, the city bought the service and keeps it alive because it is a usefull public service. \n",
    "\n",
    "I have heard that here in Montreal, women are more reluctant to active transportation then men. I am wondering if the same trend can be observed in Seattle and if the inability of Pronto to attract women could have contributed to its failure.\n",
    "\n",
    "Let's look at some representations to appreciate the profiles of typical users. Let's look at at gender distribution first."
   ]
  },
  {
   "cell_type": "code",
   "execution_count": 5,
   "metadata": {},
   "outputs": [
    {
     "data": {
      "image/png": "[encoded data removed]",
      "text/plain": [
       "<matplotlib.figure.Figure at 0xb918170>"
      ]
     },
     "metadata": {},
     "output_type": "display_data"
    }
   ],
   "source": [
    "trips.gender\n",
    "trips.gender.replace('Other', np.nan, inplace=True)\n",
    "\n",
    "# count genders\n",
    "counts = defaultdict(int)\n",
    "for e in trips.gender:\n",
    "    counts[e] += 1\n",
    "    \n",
    "# Gender distribution\n",
    "y = [e[1] for e in counts.items()][:4]\n",
    "x = range(len(y))\n",
    "cols = [e[0] for e in counts.items()][:4]\n",
    "    \n",
    "plt.figure(figsize=(8,5))\n",
    "plt.bar(x, y, color='blue', width=1/1.5)\n",
    "plt.xticks(x, cols)\n",
    "plt.title('Gender Distribution')\n",
    "plt.show()"
   ]
  },
  {
   "cell_type": "markdown",
   "metadata": {},
   "source": [
    "In this plot we have merged the \"Other\" category with the Nan's.\n",
    "\n",
    "At first glance, it looks like the service is more popular among guys. But why?\n",
    "\n",
    "Second, there are a lot of Nan's. This is because \"Non-members\", i.e. temporary pass holder, do not provide any information about their gender (neither about their age) at the pruchase of the pass. It would be intersting to know a litle more about them. It might enlighten us on why Pronto failed to convert some of these \"occasionnal users\" into annual members.\n",
    "\n",
    "The wrap-up, here are the two main goals of this study:\n",
    "\n",
    "1. Discover gender or age related peculiarities in the usage of this service  \n",
    "\n",
    "2. Can we predict the sex or the age of one of \"non-members\" based on the other information we have about them using some kind of regression?\n",
    "\n",
    "Let's get started!"
   ]
  },
  {
   "cell_type": "markdown",
   "metadata": {},
   "source": [
    "## Question 1 : age and gender"
   ]
  },
  {
   "cell_type": "code",
   "execution_count": 6,
   "metadata": {},
   "outputs": [
    {
     "name": "stdout",
     "output_type": "stream",
     "text": [
      "defaultdict(<class 'int'>, {})\n",
      "done57\n"
     ]
    }
   ],
   "source": [
    "# Bikes with trip duration\n",
    "import numbers\n",
    "\n",
    "bike_stats = defaultdict(int)\n",
    "dur_stats = defaultdict(float)\n",
    "\n",
    "age_all_stats = defaultdict(int)\n",
    "age_notnan_stats = defaultdict(int)\n",
    "age_fem_stats = defaultdict(int)\n",
    "age_male_stats = defaultdict(int)\n",
    "age_memb_stats =defaultdict(int)\n",
    "\n",
    "agedur_all_stats = defaultdict(int)\n",
    "agedur_notnan_stats = defaultdict(int)\n",
    "agedur_fem_stats = defaultdict(int)\n",
    "agedur_male_stats = defaultdict(int)\n",
    "agedur_memb_stats = defaultdict(int)\n",
    "counter = 0\n",
    "\n",
    "print(age_fem_stats)\n",
    "\n",
    "from datetime import datetime\n",
    "\n",
    "for t in trips.itertuples():\n",
    "    trip_start = datetime.strptime(t.starttime, '%m/%d/%Y %H:%M')\n",
    "    trip_riderage = - t.birthyear + trip_start.year\n",
    "    \n",
    "    #Analysis age gender\n",
    " \n",
    "    if isinstance(t.tripduration, numbers.Number) and t.tripduration > 1:\n",
    "        counter += 1\n",
    "        print(counter, end=\"\\r\")\n",
    "        agedur_all_stats[str(trip_riderage)] += t.tripduration # trip duration age birth year\n",
    "        age_all_stats[str(trip_riderage)] += 1\n",
    "        if t.gender != np.nan:\n",
    "            agedur_notnan_stats[str(trip_riderage)] += t.tripduration # trip duration age birth year\n",
    "            age_notnan_stats[str(trip_riderage)] += 1\n",
    "            if t.gender == \"Female\":\n",
    "                agedur_fem_stats[str(trip_riderage)] += t.tripduration # trip duration age birth year\n",
    "                age_fem_stats[str(trip_riderage)] += 1\n",
    "            elif t.gender == \"Male\":\n",
    "                agedur_male_stats[str(trip_riderage)] += t.tripduration # trip duration age birth year\n",
    "                age_male_stats[str(trip_riderage)] += 1\n",
    "\n",
    "        #Analysis age user type\n",
    "        if t.usertype == \"Member\":\n",
    "            agedur_memb_stats[str(trip_riderage)] += t.tripduration\n",
    "            age_memb_stats[str(trip_riderage)] += 1\n",
    "        \n",
    "    bike_stats[t.bikeid] += 1\n",
    "    dur_stats[t.bikeid] += t.tripduration\n",
    "\n",
    "keys = sorted(age_all_stats.keys())[:-1] # without nan\n",
    "\n",
    "print(\"done\")"
   ]
  },
  {
   "cell_type": "code",
   "execution_count": 10,
   "metadata": {},
   "outputs": [
    {
     "name": "stderr",
     "output_type": "stream",
     "text": [
      "c:\\users\\david\\appdata\\local\\programs\\python\\python36-32\\lib\\site-packages\\ipykernel_launcher.py:25: RuntimeWarning: invalid value encountered in double_scalars\n"
     ]
    },
    {
     "data": {
      "image/png": "[encoded data removed]",
      "text/plain": [
       "<matplotlib.figure.Figure at 0x7a6aef0>"
      ]
     },
     "metadata": {},
     "output_type": "display_data"
    }
   ],
   "source": [
    "# Age distribution\n",
    "\n",
    "import operator\n",
    "\n",
    "#Exctract list of keys in each dictionary\n",
    "ydur_all = [agedur_all_stats[k] for k in sorted(agedur_all_stats.keys())[:-1]]\n",
    "ydur_notnan = [agedur_notnan_stats[k] for k in sorted(agedur_notnan_stats.keys())[:-1]]\n",
    "ydur_fem = [agedur_fem_stats[k] for k in sorted(agedur_fem_stats.keys())[:-1]]\n",
    "ydur_male = [agedur_male_stats[k] for k in sorted(agedur_male_stats.keys())[:-1]]\n",
    "ydur_memb =  [agedur_memb_stats[k] for k in sorted(agedur_memb_stats.keys())[:-1]]\n",
    "\n",
    "y_all = [age_all_stats[k] for k in sorted(age_all_stats.keys())[:-1]]\n",
    "y_notnan = [age_notnan_stats[k] for k in sorted(age_notnan_stats.keys())[:-1]]\n",
    "y_fem = [age_fem_stats[k] for k in sorted(age_fem_stats.keys())[:-1]]\n",
    "y_male = [age_male_stats[k] for k in sorted(age_male_stats.keys())[:-1]]\n",
    "y_memb =  [age_memb_stats[k] for k in sorted(age_memb_stats.keys())[:-1]]\n",
    "\n",
    "#Compute new lists\n",
    "ydur_notmemb = list(map(operator.sub, ydur_all, ydur_memb))\n",
    "y_notmemb = list(map(operator.sub, y_all, y_memb))\n",
    "\n",
    "yavdur_male = list(map(operator.truediv, ydur_male, y_male))\n",
    "yavdur_fem = list(map(operator.truediv, ydur_fem, y_fem))\n",
    "yavdur_memb = list(map(operator.truediv, ydur_memb, y_memb))\n",
    "yavdur_notmemb = list(map(operator.truediv, ydur_notmemb, y_notmemb))\n",
    "\n",
    "# evalutate with histogram\n",
    "plt.figure(figsize=(14,5))\n",
    "keys = sorted(agedur_male_stats.keys())[:-1] \n",
    "x = list(map(float, keys))\n",
    "maleplot = plt.bar(x, ydur_male, color='blue', width=1/1.5, label = 'male')\n",
    "keys = sorted(agedur_fem_stats.keys())[:-1] \n",
    "x = list(map(float, keys))\n",
    "femaleplot = plt.bar(x, ydur_fem, color='red', width=0.5/1.5, label = 'female')\n",
    "#plt.hist(cols, 10)\n",
    "plt.xticks(x[0::4], [e for e in x[0::4]])\n",
    "#plt.axis([minyear, maxyear, minamp, maxamp])\n",
    "plt.title('Cumulative ride time for each age category and gender')\n",
    "lines = [femaleplot, maleplot]\n",
    "labels = [line.get_label() for line in lines]\n",
    "plt.legend(lines, labels)\n",
    "plt.show()\n"
   ]
  },
  {
   "cell_type": "markdown",
   "metadata": {},
   "source": [
    "Here we observe two things:\n",
    "1. Mens travel a lot more than womens with Pronto\n",
    "2. 28 years old men seam to use the service a lot. The service is used a lot by young adults between 25 and 35 years old.\n",
    "\n",
    "It would have been nice to have the user unique ID for each trip. This way we could have checked if this discrency between women and men is due to A) the fact that there are more men who suscribe for the service or B) the fact that men actually uses the service more than women.\n",
    "\n",
    "Let's dig further in the Men versus Women aspect of things."
   ]
  },
  {
   "cell_type": "code",
   "execution_count": 11,
   "metadata": {},
   "outputs": [
    {
     "data": {
      "image/png": "[encoded data removed]",
      "text/plain": [
       "<matplotlib.figure.Figure at 0xe610b0>"
      ]
     },
     "metadata": {},
     "output_type": "display_data"
    }
   ],
   "source": [
    "# evalutate with histogram\n",
    "\n",
    "plt.figure(figsize=(14,5))\n",
    "\n",
    "keys = sorted(agedur_male_stats.keys())[:-1] \n",
    "x = list(map(float, keys))\n",
    "maleplot = plt.bar(x, yavdur_male, color='blue', width=1/1.5, label = 'male')\n",
    "\n",
    "keys = sorted(agedur_fem_stats.keys())[:-1] \n",
    "x = list(map(float, keys))\n",
    "femaleplot = plt.bar(x, yavdur_fem, color='red', width=0.5/1.5, label = 'female')\n",
    "\n",
    "#plt.hist(cols, 10)\n",
    "plt.xticks(x[0::4], [e for e in x[0::4]])\n",
    "#plt.axis([minyear, maxyear, minamp, maxamp])\n",
    "plt.title('Average trip time for each age category and gender')\n",
    "lines = [femaleplot, maleplot]\n",
    "labels = [line.get_label() for line in lines]\n",
    "plt.legend(lines, labels)\n",
    "plt.show()"
   ]
  },
  {
   "cell_type": "markdown",
   "metadata": {},
   "source": [
    "Interesting! Womens tend to stay on their bikes longer then guys. Is it that guys ride faster then girls ;) ? Let's validate this assumption by calculating the distance between the departure and the arrival station (distance as the crow flies)."
   ]
  },
  {
   "cell_type": "code",
   "execution_count": 12,
   "metadata": {},
   "outputs": [],
   "source": [
    "#Function to compute the distance between two point given their latitude and longitude\n",
    "from math import radians, cos, sin, asin, sqrt\n",
    "def haversine(lon1, lat1, lon2, lat2):\n",
    "    \"\"\"\n",
    "    Calculate the great circle distance between two points \n",
    "    on the earth (specified in decimal degrees)\n",
    "    \"\"\"\n",
    "    # convert decimal degrees to radians \n",
    "    lon1, lat1, lon2, lat2 = map(radians, [lon1, lat1, lon2, lat2])\n",
    "    # haversine formula \n",
    "    dlon = lon2 - lon1 \n",
    "    dlat = lat2 - lat1 \n",
    "    a = sin(dlat/2)**2 + cos(lat1) * cos(lat2) * sin(dlon/2)**2\n",
    "    c = 2 * asin(sqrt(a)) \n",
    "    km = 6367 * c\n",
    "    return km"
   ]
  },
  {
   "cell_type": "code",
   "execution_count": 13,
   "metadata": {},
   "outputs": [],
   "source": [
    "#Home-made function for the purpose of calculating distance\n",
    "def calc_dist(stnIDa, stnIDb):\n",
    "    Alat = 0\n",
    "    Along = 0\n",
    "    Blat = 0\n",
    "    Blong = 0\n",
    "    distance = 0\n",
    "    for s in stations.itertuples():\n",
    "        if s.station_id == stnIDa:\n",
    "            Alat = s.lat\n",
    "            Along = s.long\n",
    "        if s.station_id == stnIDb:\n",
    "            Blat = s.lat\n",
    "            Blong = s.long\n",
    "    if Alat != 0 and Blat != 0 and Along != 0 and Blong != 0:\n",
    "        distance = abs(haversine(Along, Alat, Blong, Blat))\n",
    "    return distance"
   ]
  },
  {
   "cell_type": "code",
   "execution_count": 14,
   "metadata": {},
   "outputs": [
    {
     "name": "stdout",
     "output_type": "stream",
     "text": [
      "0.3132529930518943\n"
     ]
    }
   ],
   "source": [
    "#test the new distance calculation function (ouput in km)\n",
    "distance = calc_dist(trips.from_station_id[11], trips.to_station_id[11]) \n",
    "print(distance)"
   ]
  },
  {
   "cell_type": "code",
   "execution_count": 15,
   "metadata": {},
   "outputs": [
    {
     "name": "stdout",
     "output_type": "stream",
     "text": [
      "Done!6\n"
     ]
    }
   ],
   "source": [
    "#This code takes forever to run but outputs distances for each trips\n",
    "dist_all = defaultdict(int)\n",
    "dist_men = defaultdict(int)\n",
    "dist_fem = defaultdict(int)\n",
    "dist_memb = defaultdict(int)\n",
    "counter = 0\n",
    "\n",
    "for t in trips.itertuples():\n",
    "    trip_start = datetime.strptime(t.starttime, '%m/%d/%Y %H:%M')\n",
    "    trip_riderage = - t.birthyear + trip_start.year\n",
    "    distance = calc_dist(t.from_station_id, t.to_station_id)\n",
    "    \n",
    "    #Analysis age and gender\n",
    " \n",
    "    if distance > 0:\n",
    "        counter += 1\n",
    "        print(counter, end=\"\\r\")\n",
    "        dist_all[str(trip_riderage)] += distance # trip duration age birth year\n",
    "        if t.gender != np.nan:\n",
    "            if t.gender == \"Female\":\n",
    "                dist_fem[str(trip_riderage)] += distance # trip duration age birth year\n",
    "            elif t.gender == \"Male\":\n",
    "                dist_men[str(trip_riderage)] += distance # trip duration age birth year\n",
    "\n",
    "        #Analysis age user type\n",
    "        if t.usertype == \"Member\":\n",
    "            dist_memb[str(trip_riderage)] += distance\n",
    "            \n",
    "print(\"Done!\")\n",
    "            "
   ]
  },
  {
   "cell_type": "code",
   "execution_count": 16,
   "metadata": {},
   "outputs": [
    {
     "data": {
      "image/png": "[encoded data removed]",
      "text/plain": [
       "<matplotlib.figure.Figure at 0xe17090>"
      ]
     },
     "metadata": {},
     "output_type": "display_data"
    }
   ],
   "source": [
    "d_all = [dist_all[k] for k in sorted(dist_all.keys())[:-1]]\n",
    "dur_all = [agedur_all_stats[k] for k in sorted(dist_all.keys())[:-1]]\n",
    "num_all = [age_all_stats[k] for k in sorted(dist_all.keys())[:-1]]\n",
    "d_men = [dist_men[k] for k in sorted(dist_men.keys())[:-1]]\n",
    "dur_men = [agedur_male_stats[k] for k in sorted(dist_men.keys())[:-1]]\n",
    "num_men = [age_male_stats[k] for k in sorted(dist_men.keys())[:-1]]\n",
    "d_fem = [dist_fem[k] for k in sorted(dist_fem.keys())[:-1]]\n",
    "dur_fem = [agedur_fem_stats[k] for k in sorted(dist_fem.keys())[:-1]]\n",
    "num_fem = [age_fem_stats[k] for k in sorted(dist_fem.keys())[:-1]]\n",
    "\n",
    "d_memb = [dist_memb[k] for k in sorted(dist_memb.keys())[:-1]]\n",
    "dur_memb = [agedur_memb_stats[k] for k in sorted(dist_memb.keys())[:-1]]\n",
    "d_nonmemb = list(map(operator.sub, [dist_all[k] for k in sorted(dist_memb.keys())[:-1]], d_memb))\n",
    "\n",
    "spd_all = list(map(operator.truediv, d_all, 2.77777e-4 * np.float32(dur_all)))\n",
    "spd_men = list(map(operator.truediv, d_men, 2.77777e-4 * np.float32(dur_men)))\n",
    "spd_fem = list(map(operator.truediv, d_fem, 2.77777e-4 * np.float32(dur_fem)))\n",
    "\n",
    "avd_all = list(map(operator.truediv, d_all, num_all))\n",
    "avd_men = list(map(operator.truediv, d_men, num_men))\n",
    "avd_fem = list(map(operator.truediv, d_fem, num_fem))\n",
    "\n",
    "# evalutate with histogram\n",
    "plt.figure(figsize=(14,5))\n",
    "\n",
    "keys = sorted(dist_men.keys())[:-1] \n",
    "x = list(map(float, keys))\n",
    "maleplot = plt.bar(x, d_men, color='blue', width=1/1.5, label = 'male')\n",
    "\n",
    "keys = sorted(dist_fem.keys())[:-1] \n",
    "x = list(map(float, keys))\n",
    "femaleplot = plt.bar(x, d_fem, color='red', width=0.5/1.5, label = 'female')\n",
    "\n",
    "#plt.hist(cols, 10)\n",
    "plt.xticks(x[0::4], [e for e in x[0::4]])\n",
    "#plt.axis([minyear, maxyear, minamp, maxamp])\n",
    "plt.title('Cumulative distance for each age category and gender')\n",
    "lines = [femaleplot, maleplot]\n",
    "labels = [line.get_label() for line in lines]\n",
    "plt.legend(lines, labels)\n",
    "plt.show()"
   ]
  },
  {
   "cell_type": "markdown",
   "metadata": {},
   "source": [
    "OBSERVATION: Cumulative distance has the same trend as cumulative trip time, which makes sense."
   ]
  },
  {
   "cell_type": "code",
   "execution_count": 17,
   "metadata": {},
   "outputs": [
    {
     "data": {
      "image/png": "[encoded data removed]",
      "text/plain": [
       "<matplotlib.figure.Figure at 0x7a064b0>"
      ]
     },
     "metadata": {},
     "output_type": "display_data"
    }
   ],
   "source": [
    "\n",
    "\n",
    "# evalutate with histogram\n",
    "plt.figure(figsize=(14,5))\n",
    "\n",
    "keys = sorted(dist_men.keys())[:-1] \n",
    "x = list(map(float, keys))\n",
    "maleplot = plt.bar(x, spd_men, color='blue', width=1/1.5, label = 'male')\n",
    "\n",
    "keys = sorted(dist_fem.keys())[:-1] \n",
    "x = list(map(float, keys))\n",
    "femaleplot = plt.bar(x, spd_fem, color='red', width=0.5/1.5, label = \"female\")\n",
    "\n",
    "#plt.hist(cols, 10)\n",
    "plt.xticks(x[0::4], [e for e in x[0::4]])\n",
    "#plt.axis([minyear, maxyear, minamp, maxamp])\n",
    "plt.title('Average speed for each age category and gender (in km/hours)')\n",
    "lines = [femaleplot, maleplot]\n",
    "labels = [line.get_label() for line in lines]\n",
    "plt.legend(lines, labels)\n",
    "plt.show()"
   ]
  },
  {
   "cell_type": "markdown",
   "metadata": {},
   "source": [
    "Ouff! It took a lot of calculation!\n",
    "\n",
    "OBSERVATION: Even though error bars are missing, the above plot tends to confirms that Seattle guys tend to ride \"slightly\" faster than Seattle girls. As expected we can also see that older riders tend to ride slower, as expected.  \n",
    "\n",
    "QUESTION: Do guys ride over longuer distances then women?\n",
    "\n",
    "BY THE WAY: below 10 km/hours on average... That's not very fast."
   ]
  },
  {
   "cell_type": "code",
   "execution_count": null,
   "metadata": {},
   "outputs": [],
   "source": []
  },
  {
   "cell_type": "code",
   "execution_count": 18,
   "metadata": {
    "scrolled": true
   },
   "outputs": [
    {
     "data": {
      "image/png": "[encoded data removed]",
      "text/plain": [
       "<matplotlib.figure.Figure at 0x7917d50>"
      ]
     },
     "metadata": {},
     "output_type": "display_data"
    }
   ],
   "source": [
    "\n",
    "# evalutate with histogram\n",
    "plt.figure(figsize=(14,5))\n",
    "\n",
    "keys = sorted(dist_men.keys())[:-1] \n",
    "x = list(map(float, keys))\n",
    "maleplot = plt.bar(x, avd_men, color='blue', width=1/1.5, label = 'male')\n",
    "\n",
    "keys = sorted(dist_fem.keys())[:-1] \n",
    "x = list(map(float, keys))\n",
    "femaleplot = plt.bar(x, avd_fem, color='red', width=0.5/1.5, label = 'female')\n",
    "\n",
    "#plt.hist(cols, 10)\n",
    "plt.xticks(x[0::4], [e for e in x[0::4]])\n",
    "#plt.axis([minyear, maxyear, minamp, maxamp])\n",
    "plt.title('Average trip distance for each age category and gender (in km)')\n",
    "lines = [femaleplot, maleplot]\n",
    "labels = [line.get_label() for line in lines]\n",
    "plt.legend(lines, labels)\n",
    "plt.show()"
   ]
  },
  {
   "cell_type": "markdown",
   "metadata": {},
   "source": [
    "OBSERVATION: It seams like girls tend to travel further that guys but it is not that clear from the above graph."
   ]
  },
  {
   "cell_type": "markdown",
   "metadata": {},
   "source": [
    "## Conclusion"
   ]
  },
  {
   "cell_type": "markdown",
   "metadata": {},
   "source": [
    "From the above analysis, it seams like with this dataset we could tell if the rider is a men or a women based on the information we have. We might also be able to predict the riders age. This is what we will try to do in the second part of this analysis.\n",
    "\n",
    "We will then try these predictions on the \"pass-holder\" subset to see if we can learn something about them. "
   ]
  },
  {
   "cell_type": "code",
   "execution_count": null,
   "metadata": {},
   "outputs": [],
   "source": []
  }
 ],
 "metadata": {
  "kernelspec": {
   "display_name": "Python 3",
   "language": "python",
   "name": "python3"
  },
  "language_info": {
   "codemirror_mode": {
    "name": "ipython",
    "version": 3
   },
   "file_extension": ".py",
   "mimetype": "text/x-python",
   "name": "python",
   "nbconvert_exporter": "python",
   "pygments_lexer": "ipython3",
   "version": "3.6.2"
  }
 },
 "nbformat": 4,
 "nbformat_minor": 2
}
